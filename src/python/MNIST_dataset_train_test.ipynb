{
 "cells": [
  {
   "cell_type": "code",
   "execution_count": 1,
   "metadata": {},
   "outputs": [],
   "source": [
    "import numpy as np\n",
    "import matplotlib.pyplot as pyplot\n",
    "from NeuralNetwork import NeuralNetwork\n",
    "\n",
    "# MNIST dataset contian \n",
    "input_nodes = 28 * 28\n",
    "# Normally number of nodes in the hidden layer between # of input nodes and # of output nodes\n",
    "hidden_nodes = 100\n",
    "# 10 output nodes for each representation of digit\n",
    "output_nodes = 10\n",
    "\n",
    "NN = NeuralNetwork(input_nodes, hidden_nodes, output_nodes, 0.1)\n",
    "\n",
    "def parseLine(str):\n",
    "    parsed = str.split(\",\");\n",
    "    # the first element in the parsed array indicates the number\n",
    "    target_val = int(parsed[0]);\n",
    "    # convert string to float then rescale data to be (0, 1.0]\n",
    "    original = np.asfarray(parsed[1:])\n",
    "    scaled_data = (original / 255.0 * 0.99) + 0.01\n",
    "\n",
    "    return target_val, scaled_data, original\n",
    "\n"
   ]
  },
  {
   "cell_type": "code",
   "execution_count": 2,
   "metadata": {},
   "outputs": [
    {
     "name": "stdout",
     "output_type": "stream",
     "text": [
      "[0.9506, 0.9599, 0.9623]\n"
     ]
    }
   ],
   "source": [
    "# Read line at a time and parse the csv to train the data\n",
    "accuracies = []\n",
    "for epoch in range(3):\n",
    "    with open(\"../../train_data/mnist_train.csv\", \"r\") as dataset:\n",
    "        while True:\n",
    "            line = dataset.readline()\n",
    "            if not line:\n",
    "                break\n",
    "\n",
    "            target_val, scaled_data, _ = parseLine(line)\n",
    "            targets = np.zeros(output_nodes)\n",
    "            # set the corresponding target in the target array\n",
    "            targets[target_val] = 0.99\n",
    "            # train with the parsed information\n",
    "            NN.train(scaled_data, targets)\n",
    "\n",
    "        dataset.close()\n",
    "\n",
    "    test_dataset = open(\"../../test_data/mnist_test.csv\", \"r\")\n",
    "\n",
    "    # header of csv file\n",
    "    line = test_dataset.readline()\n",
    "\n",
    "    correct = 0\n",
    "    total = 0\n",
    "    count = 0\n",
    "\n",
    "    while True:\n",
    "        line = test_dataset.readline()\n",
    "        if not line:\n",
    "            break\n",
    "\n",
    "        target_val, scaled_input, original = parseLine(line)\n",
    "\n",
    "        outputs = NN.query(scaled_input)\n",
    "        pred = [\n",
    "            index for index, target in enumerate(outputs) if target == max(outputs)\n",
    "        ][0]\n",
    "        actual = target_val\n",
    "\n",
    "        # if (count % 2000 == 0):\n",
    "        #     pyplot.figure(count, figsize=(2,2))\n",
    "        #     img = original.reshape((28,28))\n",
    "        #     fig = pyplot.imshow(img, cmap=\"Greys\", interpolation=\"None\", aspect=\"equal\")\n",
    "        #     pyplot.text(1,1, f\"actual: {actual}, pred: {pred}\")\n",
    "\n",
    "        if pred == actual:\n",
    "            correct += 1\n",
    "\n",
    "        count = total = total + 1\n",
    "\n",
    "    accuracy = correct / total\n",
    "    accuracies.append(accuracy)\n",
    "\n",
    "print(accuracies)\n"
   ]
  },
  {
   "cell_type": "code",
   "execution_count": null,
   "metadata": {},
   "outputs": [],
   "source": []
  },
  {
   "cell_type": "code",
   "execution_count": 3,
   "metadata": {},
   "outputs": [],
   "source": [
    "np.savetxt(\"../../dist/weights/wih.csv\", [NN.wih.flatten()], delimiter=\",\")\n",
    "np.savetxt(\"../../dist/weights/who.csv\", [NN.who.flatten()], delimiter=\",\")"
   ]
  }
 ],
 "metadata": {
  "kernelspec": {
   "display_name": "Python 3",
   "language": "python",
   "name": "python3"
  },
  "language_info": {
   "codemirror_mode": {
    "name": "ipython",
    "version": 3
   },
   "file_extension": ".py",
   "mimetype": "text/x-python",
   "name": "python",
   "nbconvert_exporter": "python",
   "pygments_lexer": "ipython3",
   "version": "3.10.10"
  },
  "orig_nbformat": 4
 },
 "nbformat": 4,
 "nbformat_minor": 2
}
